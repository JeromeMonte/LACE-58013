{
  "nbformat": 4,
  "nbformat_minor": 0,
  "metadata": {
    "colab": {
      "provenance": [],
      "authorship_tag": "ABX9TyO7sbLVKHdmhjYa75GEkkV2",
      "include_colab_link": true
    },
    "kernelspec": {
      "name": "python3",
      "display_name": "Python 3"
    },
    "language_info": {
      "name": "python"
    }
  },
  "cells": [
    {
      "cell_type": "markdown",
      "metadata": {
        "id": "view-in-github",
        "colab_type": "text"
      },
      "source": [
        "<a href=\"https://colab.research.google.com/github/JeromeMonte/LACE-58013/blob/main/Prelim_Exam.ipynb\" target=\"_parent\"><img src=\"https://colab.research.google.com/assets/colab-badge.svg\" alt=\"Open In Colab\"/></a>"
      ]
    },
    {
      "cell_type": "markdown",
      "source": [
        "**PRELIM EXAM**"
      ],
      "metadata": {
        "id": "CJt-Mj9bvnPD"
      }
    },
    {
      "cell_type": "markdown",
      "source": [
        "Question Number 1"
      ],
      "metadata": {
        "id": "K-7WHO4TvwKg"
      }
    },
    {
      "cell_type": "code",
      "execution_count": 18,
      "metadata": {
        "colab": {
          "base_uri": "https://localhost:8080/"
        },
        "id": "K-aNjlsUvjGk",
        "outputId": "85036845-d0b6-4499-faae-bd3e219daab1"
      },
      "outputs": [
        {
          "output_type": "stream",
          "name": "stdout",
          "text": [
            "Multiplication by 1\n",
            " [[ 1]\n",
            " [ 2]\n",
            " [ 3]\n",
            " [ 4]\n",
            " [ 5]\n",
            " [ 6]\n",
            " [ 7]\n",
            " [ 8]\n",
            " [ 9]\n",
            " [10]] \n",
            "\n",
            "\n",
            "Multiplication by 2\n",
            " [[ 2]\n",
            " [ 4]\n",
            " [ 6]\n",
            " [ 8]\n",
            " [10]\n",
            " [12]\n",
            " [14]\n",
            " [16]\n",
            " [18]\n",
            " [20]] \n",
            "\n",
            "\n",
            "Multiplication by 3\n",
            " [[ 3]\n",
            " [ 6]\n",
            " [ 9]\n",
            " [12]\n",
            " [15]\n",
            " [18]\n",
            " [21]\n",
            " [24]\n",
            " [27]\n",
            " [30]] \n",
            "\n",
            "\n",
            "Multiplication by 4\n",
            " [[ 4]\n",
            " [ 8]\n",
            " [12]\n",
            " [16]\n",
            " [20]\n",
            " [24]\n",
            " [28]\n",
            " [32]\n",
            " [36]\n",
            " [40]] \n",
            "\n",
            "\n",
            "Multiplication by 5\n",
            " [[ 5]\n",
            " [10]\n",
            " [15]\n",
            " [20]\n",
            " [25]\n",
            " [30]\n",
            " [35]\n",
            " [40]\n",
            " [45]\n",
            " [50]] \n",
            "\n",
            "\n",
            "Multiplication by 6\n",
            " [[ 6]\n",
            " [12]\n",
            " [18]\n",
            " [24]\n",
            " [30]\n",
            " [36]\n",
            " [42]\n",
            " [48]\n",
            " [54]\n",
            " [60]] \n",
            "\n",
            "\n",
            "Multiplication by 7\n",
            " [[ 7]\n",
            " [14]\n",
            " [21]\n",
            " [28]\n",
            " [35]\n",
            " [42]\n",
            " [49]\n",
            " [56]\n",
            " [63]\n",
            " [70]] \n",
            "\n",
            "\n",
            "Multiplication by 8\n",
            " [[ 8]\n",
            " [16]\n",
            " [24]\n",
            " [32]\n",
            " [40]\n",
            " [48]\n",
            " [56]\n",
            " [64]\n",
            " [72]\n",
            " [80]] \n",
            "\n",
            "\n",
            "Multiplication by 9\n",
            " [[ 9]\n",
            " [18]\n",
            " [27]\n",
            " [36]\n",
            " [45]\n",
            " [54]\n",
            " [63]\n",
            " [72]\n",
            " [81]\n",
            " [90]] \n",
            "\n",
            "\n",
            "Multiplication by 10\n",
            " [[ 10]\n",
            " [ 20]\n",
            " [ 30]\n",
            " [ 40]\n",
            " [ 50]\n",
            " [ 60]\n",
            " [ 70]\n",
            " [ 80]\n",
            " [ 90]\n",
            " [100]] \n",
            "\n",
            "\n"
          ]
        }
      ],
      "source": [
        "import numpy as np\n",
        "\n",
        "a = np.array([1, 2, 3, 4, 5, 6, 7, 8, 9, 10])\n",
        "b = np.array([[1], [2], [3], [4], [5], [6], [7], [8], [9], [10]])\n",
        "\n",
        "print(\"Multiplication by 1\\n\", a[0]*b, \"\\n\\n\")\n",
        "print(\"Multiplication by 2\\n\", a[1]*b, \"\\n\\n\")\n",
        "print(\"Multiplication by 3\\n\", a[2]*b, \"\\n\\n\")\n",
        "print(\"Multiplication by 4\\n\", a[3]*b, \"\\n\\n\")\n",
        "print(\"Multiplication by 5\\n\", a[4]*b, \"\\n\\n\")\n",
        "print(\"Multiplication by 6\\n\", a[5]*b, \"\\n\\n\")\n",
        "print(\"Multiplication by 7\\n\", a[6]*b, \"\\n\\n\")\n",
        "print(\"Multiplication by 8\\n\", a[7]*b, \"\\n\\n\")\n",
        "print(\"Multiplication by 9\\n\", a[8]*b, \"\\n\\n\")\n",
        "print(\"Multiplication by 10\\n\", a[9]*b, \"\\n\\n\")"
      ]
    },
    {
      "cell_type": "markdown",
      "source": [
        "Question Number 2"
      ],
      "metadata": {
        "id": "OEpwrbvlxX0h"
      }
    },
    {
      "cell_type": "code",
      "source": [
        "import numpy as np\n",
        "\n",
        "a = np.array([1, 2, 3, 4, 5, 6, 7, 8, 9, 10])\n",
        "b = np.array([[1], [2], [3], [4], [5], [6], [7], [8], [9], [10]])\n",
        "\n",
        "a = a*2\n",
        "b = b*2\n",
        "\n",
        "print(\"**All the value of each element are doubled**\\n\")\n",
        "\n",
        "print(\"Multiplication by 1\\n\", a[0]*b, \"\\n\\n\")\n",
        "print(\"Multiplication by 2\\n\", a[1]*b, \"\\n\\n\")\n",
        "print(\"Multiplication by 3\\n\", a[2]*b, \"\\n\\n\")\n",
        "print(\"Multiplication by 4\\n\", a[3]*b, \"\\n\\n\")\n",
        "print(\"Multiplication by 5\\n\", a[4]*b, \"\\n\\n\")\n",
        "print(\"Multiplication by 6\\n\", a[5]*b, \"\\n\\n\")\n",
        "print(\"Multiplication by 7\\n\", a[6]*b, \"\\n\\n\")\n",
        "print(\"Multiplication by 8\\n\", a[7]*b, \"\\n\\n\")\n",
        "print(\"Multiplication by 9\\n\", a[8]*b, \"\\n\\n\")\n",
        "print(\"Multiplication by 10\\n\", a[9]*b, \"\\n\\n\")"
      ],
      "metadata": {
        "colab": {
          "base_uri": "https://localhost:8080/"
        },
        "id": "diF7GnNCxXTM",
        "outputId": "1d30a586-a485-4d44-a68f-a2796ccc272f"
      },
      "execution_count": 20,
      "outputs": [
        {
          "output_type": "stream",
          "name": "stdout",
          "text": [
            "**All the value of each element are doubled**\n",
            "\n",
            "Multiplication by 1\n",
            " [[ 4]\n",
            " [ 8]\n",
            " [12]\n",
            " [16]\n",
            " [20]\n",
            " [24]\n",
            " [28]\n",
            " [32]\n",
            " [36]\n",
            " [40]] \n",
            "\n",
            "\n",
            "Multiplication by 2\n",
            " [[ 8]\n",
            " [16]\n",
            " [24]\n",
            " [32]\n",
            " [40]\n",
            " [48]\n",
            " [56]\n",
            " [64]\n",
            " [72]\n",
            " [80]] \n",
            "\n",
            "\n",
            "Multiplication by 3\n",
            " [[ 12]\n",
            " [ 24]\n",
            " [ 36]\n",
            " [ 48]\n",
            " [ 60]\n",
            " [ 72]\n",
            " [ 84]\n",
            " [ 96]\n",
            " [108]\n",
            " [120]] \n",
            "\n",
            "\n",
            "Multiplication by 4\n",
            " [[ 16]\n",
            " [ 32]\n",
            " [ 48]\n",
            " [ 64]\n",
            " [ 80]\n",
            " [ 96]\n",
            " [112]\n",
            " [128]\n",
            " [144]\n",
            " [160]] \n",
            "\n",
            "\n",
            "Multiplication by 5\n",
            " [[ 20]\n",
            " [ 40]\n",
            " [ 60]\n",
            " [ 80]\n",
            " [100]\n",
            " [120]\n",
            " [140]\n",
            " [160]\n",
            " [180]\n",
            " [200]] \n",
            "\n",
            "\n",
            "Multiplication by 6\n",
            " [[ 24]\n",
            " [ 48]\n",
            " [ 72]\n",
            " [ 96]\n",
            " [120]\n",
            " [144]\n",
            " [168]\n",
            " [192]\n",
            " [216]\n",
            " [240]] \n",
            "\n",
            "\n",
            "Multiplication by 7\n",
            " [[ 28]\n",
            " [ 56]\n",
            " [ 84]\n",
            " [112]\n",
            " [140]\n",
            " [168]\n",
            " [196]\n",
            " [224]\n",
            " [252]\n",
            " [280]] \n",
            "\n",
            "\n",
            "Multiplication by 8\n",
            " [[ 32]\n",
            " [ 64]\n",
            " [ 96]\n",
            " [128]\n",
            " [160]\n",
            " [192]\n",
            " [224]\n",
            " [256]\n",
            " [288]\n",
            " [320]] \n",
            "\n",
            "\n",
            "Multiplication by 9\n",
            " [[ 36]\n",
            " [ 72]\n",
            " [108]\n",
            " [144]\n",
            " [180]\n",
            " [216]\n",
            " [252]\n",
            " [288]\n",
            " [324]\n",
            " [360]] \n",
            "\n",
            "\n",
            "Multiplication by 10\n",
            " [[ 40]\n",
            " [ 80]\n",
            " [120]\n",
            " [160]\n",
            " [200]\n",
            " [240]\n",
            " [280]\n",
            " [320]\n",
            " [360]\n",
            " [400]] \n",
            "\n",
            "\n"
          ]
        }
      ]
    },
    {
      "cell_type": "markdown",
      "source": [
        "Question Number 3"
      ],
      "metadata": {
        "id": "GJ4moXaDxYJH"
      }
    },
    {
      "cell_type": "code",
      "source": [
        "import numpy as np\n",
        "\n",
        "print(np.eye(4, 4))"
      ],
      "metadata": {
        "colab": {
          "base_uri": "https://localhost:8080/"
        },
        "id": "k75rBiOhxWxD",
        "outputId": "96333c36-9b47-4b02-8e12-f6873d428602"
      },
      "execution_count": 33,
      "outputs": [
        {
          "output_type": "stream",
          "name": "stdout",
          "text": [
            "[[1. 0. 0. 0.]\n",
            " [0. 1. 0. 0.]\n",
            " [0. 0. 1. 0.]\n",
            " [0. 0. 0. 1.]]\n"
          ]
        }
      ]
    },
    {
      "cell_type": "markdown",
      "source": [
        "Question Number 4"
      ],
      "metadata": {
        "id": "qi43ez0nysZp"
      }
    },
    {
      "cell_type": "code",
      "source": [
        "import numpy as np\n",
        "\n",
        "matrix = np.array([[1, 2, 3, 4],\n",
        "                   [5, 6, 7, 8],\n",
        "                   [9, 10, 11, 12]])\n",
        "\n",
        "print(\"The size of the Matrix is: \", len(matrix))\n",
        "print(\"The shape and dimension of the Matrix is: \", np.shape(matrix))"
      ],
      "metadata": {
        "colab": {
          "base_uri": "https://localhost:8080/"
        },
        "id": "WwgnbILDyucc",
        "outputId": "5d4ee4a8-371e-411f-e74b-09a7b7f5df7d"
      },
      "execution_count": 13,
      "outputs": [
        {
          "output_type": "stream",
          "name": "stdout",
          "text": [
            "The size of the Matrix is:  3\n",
            "The shape and dimension of the Matrix is:  (3, 4)\n"
          ]
        }
      ]
    },
    {
      "cell_type": "markdown",
      "source": [
        "Question Number 5"
      ],
      "metadata": {
        "id": "slAkt_HP1lki"
      }
    },
    {
      "cell_type": "code",
      "source": [
        "import numpy as np\n",
        "\n",
        "arrayOne = np.array([[5, 6, 9], [21, 18, 27]])\n",
        "arrayTwo = np.array([[15, 33, 24], [4, 7, 1]])\n",
        "\n",
        "a = arrayOne+arrayTwo\n",
        "\n",
        "print(\"Addition:\\n\", a, \"\\n\\n\")\n",
        "\n",
        "print(\"Squared:\\n\", a*a)"
      ],
      "metadata": {
        "colab": {
          "base_uri": "https://localhost:8080/"
        },
        "id": "mBGBVSed1oKo",
        "outputId": "64d7c4c9-97e7-46d3-d33a-389e89570392"
      },
      "execution_count": 38,
      "outputs": [
        {
          "output_type": "stream",
          "name": "stdout",
          "text": [
            "Addition:\n",
            " [[20 39 33]\n",
            " [25 25 28]] \n",
            "\n",
            "\n",
            "Squared:\n",
            " [[ 400 1521 1089]\n",
            " [ 625  625  784]]\n"
          ]
        }
      ]
    }
  ]
}