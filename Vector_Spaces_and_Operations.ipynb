{
  "nbformat": 4,
  "nbformat_minor": 0,
  "metadata": {
    "colab": {
      "provenance": [],
      "authorship_tag": "ABX9TyOeWQuIP/soe7YlMCSD+gUT",
      "include_colab_link": true
    },
    "kernelspec": {
      "name": "python3",
      "display_name": "Python 3"
    },
    "language_info": {
      "name": "python"
    }
  },
  "cells": [
    {
      "cell_type": "markdown",
      "metadata": {
        "id": "view-in-github",
        "colab_type": "text"
      },
      "source": [
        "<a href=\"https://colab.research.google.com/github/JeromeMonte/LACE-58013/blob/main/Vector_Spaces_and_Operations.ipynb\" target=\"_parent\"><img src=\"https://colab.research.google.com/assets/colab-badge.svg\" alt=\"Open In Colab\"/></a>"
      ]
    },
    {
      "cell_type": "code",
      "execution_count": 3,
      "metadata": {
        "colab": {
          "base_uri": "https://localhost:8080/"
        },
        "id": "Q72vEimshV1h",
        "outputId": "bd68afa0-f40b-4227-fd3b-26c2b80547fe"
      },
      "outputs": [
        {
          "output_type": "stream",
          "name": "stdout",
          "text": [
            "Vector A is [4 3]\n",
            "Vector B is [ 2 -5]\n"
          ]
        }
      ],
      "source": [
        "import numpy as np\n",
        "\n",
        "A = np.array([4,3])\n",
        "B = np.array([2,-5])\n",
        "\n",
        "print('Vector A is', A)\n",
        "print('Vector B is', B)"
      ]
    },
    {
      "cell_type": "markdown",
      "source": [
        "Checking shapes and matrix count"
      ],
      "metadata": {
        "id": "F_eaZiZ1jXQT"
      }
    },
    {
      "cell_type": "code",
      "source": [
        "##Checking Shapes\n",
        "###Shapes tell how many rows and columns are there\n",
        "\n",
        "import numpy as np\n",
        "\n",
        "ball1 = np.array([1,2,3])\n",
        "ball2 = np.array([0,1,-1])\n",
        "\n",
        "balls = len(ball1) + len(ball2)\n",
        "\n",
        "shape = np.shape(np.array([ball1,ball2]))\n",
        "\n",
        "print('Ball 1:\\n',ball1)\n",
        "print('\\nBall 2:\\n',ball2)\n",
        "print('\\nBall Shape\\n(Rows, Columns):\\n',shape,'\\n')\n",
        "print(np.array([ball1,ball2]))\n",
        "print('\\nThe length of Ball 1 and Ball 2 is',balls)"
      ],
      "metadata": {
        "colab": {
          "base_uri": "https://localhost:8080/"
        },
        "id": "HtB5X7KxjBy2",
        "outputId": "cc576e78-7ea1-43e9-d613-7355fdca7090"
      },
      "execution_count": 1,
      "outputs": [
        {
          "output_type": "stream",
          "name": "stdout",
          "text": [
            "Ball 1:\n",
            " [1 2 3]\n",
            "\n",
            "Ball 2:\n",
            " [ 0  1 -1]\n",
            "\n",
            "Ball Shape\n",
            "(Rows, Columns):\n",
            " (2, 3) \n",
            "\n",
            "[[ 1  2  3]\n",
            " [ 0  1 -1]]\n",
            "\n",
            "The length of Ball 1 and Ball 2 is 6\n"
          ]
        }
      ]
    },
    {
      "cell_type": "markdown",
      "source": [
        "Operations"
      ],
      "metadata": {
        "id": "KAGYTWE9sJNS"
      }
    },
    {
      "cell_type": "code",
      "source": [
        "##Addition\n",
        "\n",
        "import numpy as np\n",
        "\n",
        "A = np.array([4,3])\n",
        "B = np.array([2,-5])\n",
        "\n",
        "print(A+B)"
      ],
      "metadata": {
        "colab": {
          "base_uri": "https://localhost:8080/"
        },
        "id": "ikTEfXbGsMAY",
        "outputId": "5f4b48da-a6e7-488b-9918-0bc2fc2bc9de"
      },
      "execution_count": 6,
      "outputs": [
        {
          "output_type": "stream",
          "name": "stdout",
          "text": [
            "[ 6 -2]\n"
          ]
        }
      ]
    },
    {
      "cell_type": "code",
      "source": [
        "##Subtraction\n",
        "\n",
        "import numpy as np\n",
        "\n",
        "A = np.array([4,3])\n",
        "B = np.array([2,-5])\n",
        "\n",
        "print(A-B)"
      ],
      "metadata": {
        "colab": {
          "base_uri": "https://localhost:8080/"
        },
        "id": "_yz4sfQxuV3f",
        "outputId": "7f73faef-c25c-42cf-d848-e50941ad287c"
      },
      "execution_count": 7,
      "outputs": [
        {
          "output_type": "stream",
          "name": "stdout",
          "text": [
            "[2 8]\n"
          ]
        }
      ]
    },
    {
      "cell_type": "code",
      "source": [
        "##Multiplication\n",
        "\n",
        "import numpy as np\n",
        "\n",
        "A = np.array([4,3])\n",
        "B = np.array([2,-5])\n",
        "\n",
        "print(A*B)"
      ],
      "metadata": {
        "colab": {
          "base_uri": "https://localhost:8080/"
        },
        "id": "HX-EfxDQumqt",
        "outputId": "f4a4d5c1-2703-456d-84a8-ee968b760bb9"
      },
      "execution_count": 8,
      "outputs": [
        {
          "output_type": "stream",
          "name": "stdout",
          "text": [
            "[  8 -15]\n"
          ]
        }
      ]
    },
    {
      "cell_type": "code",
      "source": [
        "##Division\n",
        "\n",
        "import numpy as np\n",
        "\n",
        "A = np.array([4,3])\n",
        "B = np.array([2,-5])\n",
        "\n",
        "print(A/B)"
      ],
      "metadata": {
        "colab": {
          "base_uri": "https://localhost:8080/"
        },
        "id": "nxONd0CdusW_",
        "outputId": "2806a9fd-aa93-44bd-d245-dc8cbf548c56"
      },
      "execution_count": 9,
      "outputs": [
        {
          "output_type": "stream",
          "name": "stdout",
          "text": [
            "[ 2.  -0.6]\n"
          ]
        }
      ]
    },
    {
      "cell_type": "code",
      "source": [
        "##Scalar Product\n",
        "\n",
        "import numpy as np\n",
        "\n",
        "S = np.array([2])\n",
        "\n",
        "print(S*A)"
      ],
      "metadata": {
        "colab": {
          "base_uri": "https://localhost:8080/"
        },
        "id": "YvdFR0gMvwid",
        "outputId": "802fd7fa-0990-4cc5-9c1a-2348e92e9295"
      },
      "execution_count": 14,
      "outputs": [
        {
          "output_type": "stream",
          "name": "stdout",
          "text": [
            "[8 6]\n"
          ]
        }
      ]
    },
    {
      "cell_type": "code",
      "source": [
        "##Dot Product\n",
        "\n",
        "import numpy as np\n",
        "\n",
        "A = np.array([4,3])\n",
        "B = np.array([[2],[-5]])\n",
        "\n",
        "print(np.dot(A,B))"
      ],
      "metadata": {
        "colab": {
          "base_uri": "https://localhost:8080/"
        },
        "id": "VhDDbN7ovbp-",
        "outputId": "7c217d97-8d56-4f8a-e46b-cb4b165a2fb2"
      },
      "execution_count": 15,
      "outputs": [
        {
          "output_type": "stream",
          "name": "stdout",
          "text": [
            "[-7]\n"
          ]
        }
      ]
    },
    {
      "cell_type": "code",
      "source": [
        "##Cross Product\n",
        "\n",
        "import numpy as np\n",
        "\n",
        "A = np.array([4,3])\n",
        "B = np.array([[2],[-5]])\n",
        "\n",
        "print(A*B)"
      ],
      "metadata": {
        "colab": {
          "base_uri": "https://localhost:8080/"
        },
        "id": "2cFeEJuFxF7M",
        "outputId": "ecc481eb-db8b-42fd-9fd1-e15e494cc3bf"
      },
      "execution_count": 12,
      "outputs": [
        {
          "output_type": "stream",
          "name": "stdout",
          "text": [
            "[[  8   6]\n",
            " [-20 -15]]\n"
          ]
        }
      ]
    },
    {
      "cell_type": "code",
      "source": [
        "##Property of Matrix\n",
        "##Identity Matrix\n",
        "\n",
        "import numpy as np\n",
        "\n",
        "c = np.eye(3,3)\n",
        "\n",
        "print(c)"
      ],
      "metadata": {
        "colab": {
          "base_uri": "https://localhost:8080/"
        },
        "id": "rmSVlIvAzbQY",
        "outputId": "9b8558fa-f2b9-4775-85ac-53ede515aac7"
      },
      "execution_count": 13,
      "outputs": [
        {
          "output_type": "stream",
          "name": "stdout",
          "text": [
            "[[1. 0. 0.]\n",
            " [0. 1. 0.]\n",
            " [0. 0. 1.]]\n"
          ]
        }
      ]
    },
    {
      "cell_type": "code",
      "source": [
        "##Transpose Matrix\n",
        "\n",
        "import numpy as np\n",
        "\n",
        "A = np.array([4,3])\n",
        "B = np.array([[2],[-5]])\n",
        "\n",
        "print(np.transpose(B))"
      ],
      "metadata": {
        "colab": {
          "base_uri": "https://localhost:8080/"
        },
        "id": "tTMy8d23085p",
        "outputId": "d2fa0150-df76-4a4b-87c4-eb3c72548d73"
      },
      "execution_count": 14,
      "outputs": [
        {
          "output_type": "stream",
          "name": "stdout",
          "text": [
            "[[ 2 -5]]\n"
          ]
        }
      ]
    }
  ]
}