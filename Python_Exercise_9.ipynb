{
  "nbformat": 4,
  "nbformat_minor": 0,
  "metadata": {
    "colab": {
      "provenance": [],
      "authorship_tag": "ABX9TyOtQ0FI+4BE+80cktoXQTkC",
      "include_colab_link": true
    },
    "kernelspec": {
      "name": "python3",
      "display_name": "Python 3"
    },
    "language_info": {
      "name": "python"
    }
  },
  "cells": [
    {
      "cell_type": "markdown",
      "metadata": {
        "id": "view-in-github",
        "colab_type": "text"
      },
      "source": [
        "<a href=\"https://colab.research.google.com/github/JeromeMonte/LinearAlgebra-58013/blob/main/Python_Exercise_9.ipynb\" target=\"_parent\"><img src=\"https://colab.research.google.com/assets/colab-badge.svg\" alt=\"Open In Colab\"/></a>"
      ]
    },
    {
      "cell_type": "markdown",
      "source": [
        "**MATRIX ALGEBRA**"
      ],
      "metadata": {
        "id": "hiF5VhGXFpsY"
      }
    },
    {
      "cell_type": "markdown",
      "source": [
        "Associativity Property"
      ],
      "metadata": {
        "id": "CmFkkXG8C4Th"
      }
    },
    {
      "cell_type": "code",
      "execution_count": 11,
      "metadata": {
        "colab": {
          "base_uri": "https://localhost:8080/"
        },
        "id": "fzAgOdT6CDxu",
        "outputId": "39c2c846-28d9-4f93-a07f-bf61bfd6cb64"
      },
      "outputs": [
        {
          "output_type": "stream",
          "name": "stdout",
          "text": [
            "[[150  60 132]\n",
            " [429 177 384]\n",
            " [708 294 636]] \n",
            "\n",
            " [[150  60 132]\n",
            " [429 177 384]\n",
            " [708 294 636]] \n",
            "\n",
            " True\n"
          ]
        }
      ],
      "source": [
        "import numpy as np\n",
        "\n",
        "A = np.array([[1, 2, 3],\n",
        "              [4, 5, 6],\n",
        "              [7, 8, 9]])\n",
        "\n",
        "B = np.array([[9, 8, 7],\n",
        "              [6, 5, 4],\n",
        "              [3, 2, 1]])\n",
        "\n",
        "C = np.array([[2, 0, 1],\n",
        "              [3, 1, 2],\n",
        "              [1, 2, 3]])\n",
        "\n",
        "\n",
        "LHS = np.dot(np.dot(A, B), C)\n",
        "RHS = np.dot(A, np.dot(B, C))\n",
        "AP = np.array_equal(LHS, RHS)\n",
        "\n",
        "print(LHS,\"\\n\\n\",RHS,\"\\n\\n\",AP)"
      ]
    },
    {
      "cell_type": "markdown",
      "source": [
        "Distributivity over Addition"
      ],
      "metadata": {
        "id": "BEt92zj0DEze"
      }
    },
    {
      "cell_type": "code",
      "source": [
        "import numpy as np\n",
        "\n",
        "A = np.array([[1, 2, 3],\n",
        "              [4, 5, 6],\n",
        "              [7, 8, 9]])\n",
        "\n",
        "B = np.array([[9, 8, 7],\n",
        "              [6, 5, 4],\n",
        "              [3, 2, 1]])\n",
        "\n",
        "C = np.array([[2, 0, 1],\n",
        "              [3, 1, 2],\n",
        "              [1, 2, 3]])\n",
        "\n",
        "LHS = np.dot(A, B + C)\n",
        "RHS = np.dot(A, B) + np.dot(A, C)\n",
        "DP = np.array_equal(LHS, RHS)\n",
        "\n",
        "print(LHS,\"\\n\\n\", RHS,\"\\n\\n\",DP)"
      ],
      "metadata": {
        "colab": {
          "base_uri": "https://localhost:8080/"
        },
        "id": "pxVyDIiJDEBD",
        "outputId": "223724fd-32f3-4fab-bbe0-ef2dc23b2c06"
      },
      "execution_count": 10,
      "outputs": [
        {
          "output_type": "stream",
          "name": "stdout",
          "text": [
            "[[ 41  32  32]\n",
            " [113  86  86]\n",
            " [185 140 140]] \n",
            "\n",
            " [[ 41  32  32]\n",
            " [113  86  86]\n",
            " [185 140 140]] \n",
            "\n",
            " True\n"
          ]
        }
      ]
    },
    {
      "cell_type": "markdown",
      "source": [
        "SCALAR"
      ],
      "metadata": {
        "id": "xKHD42pLDU0x"
      }
    },
    {
      "cell_type": "code",
      "source": [
        "import numpy as np\n",
        "\n",
        "k = 2\n",
        "\n",
        "A = np.array([[1, 2, 3],\n",
        "              [4, 5, 6],\n",
        "              [7, 8, 9]])\n",
        "\n",
        "B = np.array([[9, 8, 7],\n",
        "              [6, 5, 4],\n",
        "              [3, 2, 1]])\n",
        "\n",
        "C = np.array([[2, 0, 1],\n",
        "              [3, 1, 2],\n",
        "              [1, 2, 3]])\n",
        "\n",
        "LHS = k * np.dot(A, B)\n",
        "RHS1 = np.dot(k * A, B)\n",
        "RHS2 = np.dot(A, k * B)\n",
        "SC = np.array_equal(LHS, RHS1) and np.array_equal(LHS, RHS2)\n",
        "\n",
        "print(LHS,\"\\n\\n\", RHS1,\"\\n\\n\", RHS2,\"\\n\\n\", SC)"
      ],
      "metadata": {
        "colab": {
          "base_uri": "https://localhost:8080/"
        },
        "id": "A7BI1lfHDZcZ",
        "outputId": "ce27b970-5c2e-41cb-ee0c-7444adef7105"
      },
      "execution_count": 12,
      "outputs": [
        {
          "output_type": "stream",
          "name": "stdout",
          "text": [
            "[[ 60  48  36]\n",
            " [168 138 108]\n",
            " [276 228 180]] \n",
            "\n",
            " [[ 60  48  36]\n",
            " [168 138 108]\n",
            " [276 228 180]] \n",
            "\n",
            " [[ 60  48  36]\n",
            " [168 138 108]\n",
            " [276 228 180]] \n",
            "\n",
            " True\n"
          ]
        }
      ]
    },
    {
      "cell_type": "markdown",
      "source": [
        "Identity Matrix Property"
      ],
      "metadata": {
        "id": "e9ApkOvvEHn9"
      }
    },
    {
      "cell_type": "code",
      "source": [
        "import numpy as np\n",
        "\n",
        "I = np.identity(3)\n",
        "\n",
        "A = np.array([[1, 2, 3],\n",
        "              [4, 5, 6],\n",
        "              [7, 8, 9]])\n",
        "\n",
        "B = np.array([[9, 8, 7],\n",
        "              [6, 5, 4],\n",
        "              [3, 2, 1]])\n",
        "\n",
        "C = np.array([[2, 0, 1],\n",
        "              [3, 1, 2],\n",
        "              [1, 2, 3]])\n",
        "\n",
        "LHS = np.dot(I, A)\n",
        "RHS = A\n",
        "IP = np.array_equal(LHS, RHS)\n",
        "\n",
        "print(LHS,\"\\n\\n\", RHS,\"\\n\\n\",IP)"
      ],
      "metadata": {
        "colab": {
          "base_uri": "https://localhost:8080/"
        },
        "id": "p-XahYjMETLG",
        "outputId": "c8f72429-e356-4a4e-9207-537a683f10dd"
      },
      "execution_count": 14,
      "outputs": [
        {
          "output_type": "stream",
          "name": "stdout",
          "text": [
            "[[1. 2. 3.]\n",
            " [4. 5. 6.]\n",
            " [7. 8. 9.]] \n",
            "\n",
            " [[1 2 3]\n",
            " [4 5 6]\n",
            " [7 8 9]] \n",
            "\n",
            " True\n"
          ]
        }
      ]
    },
    {
      "cell_type": "markdown",
      "source": [
        "Zero Matrix Property"
      ],
      "metadata": {
        "id": "QWBoBABlEnTU"
      }
    },
    {
      "cell_type": "code",
      "source": [
        "import numpy as np\n",
        "\n",
        "zero_matrix = np.zeros((3, 3))\n",
        "\n",
        "A = np.array([[1, 2, 3],\n",
        "              [4, 5, 6],\n",
        "              [7, 8, 9]])\n",
        "\n",
        "B = np.array([[9, 8, 7],\n",
        "              [6, 5, 4],\n",
        "              [3, 2, 1]])\n",
        "\n",
        "C = np.array([[2, 0, 1],\n",
        "              [3, 1, 2],\n",
        "              [1, 2, 3]])\n",
        "\n",
        "LHS = np.dot(A, zero_matrix)\n",
        "RHS = np.dot(zero_matrix, A)\n",
        "ZP = np.array_equal(LHS, RHS)\n",
        "\n",
        "print(LHS,\"\\n\\n\", RHS,\"\\n\\n\",ZP)"
      ],
      "metadata": {
        "colab": {
          "base_uri": "https://localhost:8080/"
        },
        "id": "CNta8f6EEp78",
        "outputId": "45b351eb-d766-45b7-c628-3d8dedcc8382"
      },
      "execution_count": 15,
      "outputs": [
        {
          "output_type": "stream",
          "name": "stdout",
          "text": [
            "[[0. 0. 0.]\n",
            " [0. 0. 0.]\n",
            " [0. 0. 0.]] \n",
            "\n",
            " [[0. 0. 0.]\n",
            " [0. 0. 0.]\n",
            " [0. 0. 0.]] \n",
            "\n",
            " True\n"
          ]
        }
      ]
    },
    {
      "cell_type": "markdown",
      "source": [
        "Transpose Property"
      ],
      "metadata": {
        "id": "3HRiDyjaFOh_"
      }
    },
    {
      "cell_type": "code",
      "source": [
        "import numpy as np\n",
        "\n",
        "A = np.array([[1, 2, 3],\n",
        "              [4, 5, 6],\n",
        "              [7, 8, 9]])\n",
        "\n",
        "B = np.array([[9, 8, 7],\n",
        "              [6, 5, 4],\n",
        "              [3, 2, 1]])\n",
        "\n",
        "C = np.array([[2, 0, 1],\n",
        "              [3, 1, 2],\n",
        "              [1, 2, 3]])\n",
        "\n",
        "LHS = np.dot(A, B).T\n",
        "RHS = np.dot(B.T, A.T)\n",
        "TP = np.array_equal(LHS, RHS)\n",
        "\n",
        "print(LHS,\"\\n\\n\", RHS,\"\\n\\n\",TP)"
      ],
      "metadata": {
        "colab": {
          "base_uri": "https://localhost:8080/"
        },
        "id": "laMnVMD8FSwA",
        "outputId": "b26ea4c5-9f90-4f4b-cf4d-baa8a22e3335"
      },
      "execution_count": 16,
      "outputs": [
        {
          "output_type": "stream",
          "name": "stdout",
          "text": [
            "[[ 30  84 138]\n",
            " [ 24  69 114]\n",
            " [ 18  54  90]] \n",
            "\n",
            " [[ 30  84 138]\n",
            " [ 24  69 114]\n",
            " [ 18  54  90]] \n",
            "\n",
            " True\n"
          ]
        }
      ]
    }
  ]
}