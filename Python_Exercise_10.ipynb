{
  "nbformat": 4,
  "nbformat_minor": 0,
  "metadata": {
    "colab": {
      "provenance": [],
      "authorship_tag": "ABX9TyO3QQRpPrUBSgfPXIlD2e24",
      "include_colab_link": true
    },
    "kernelspec": {
      "name": "python3",
      "display_name": "Python 3"
    },
    "language_info": {
      "name": "python"
    }
  },
  "cells": [
    {
      "cell_type": "markdown",
      "metadata": {
        "id": "view-in-github",
        "colab_type": "text"
      },
      "source": [
        "<a href=\"https://colab.research.google.com/github/JeromeMonte/LinearAlgebra-58013/blob/main/Python_Exercise_10.ipynb\" target=\"_parent\"><img src=\"https://colab.research.google.com/assets/colab-badge.svg\" alt=\"Open In Colab\"/></a>"
      ]
    },
    {
      "cell_type": "markdown",
      "source": [
        "**SYSTEM OF LINEAR EQUATION**"
      ],
      "metadata": {
        "id": "CYPgyqcnGQBa"
      }
    },
    {
      "cell_type": "code",
      "execution_count": 5,
      "metadata": {
        "colab": {
          "base_uri": "https://localhost:8080/"
        },
        "id": "vxG2X-5CGO4Y",
        "outputId": "4e66d4e6-e142-4e4b-8e1a-7771fec074e7"
      },
      "outputs": [
        {
          "output_type": "stream",
          "name": "stdout",
          "text": [
            "Price per sack of flour: 330.00 pesos\n",
            "Price per pack of yeast: 140.00 pesos\n",
            "Price per egg: 10.00 pesos\n"
          ]
        }
      ],
      "source": [
        "from sympy import symbols, Eq, solve\n",
        "\n",
        "# defining varibles of prices\n",
        "pf, py, pe = symbols('pf py pe')\n",
        "\n",
        "# defining the equations based on the purchases for each month\n",
        "# Month 1: 30*pf + 10*py + 120*pe = 12500\n",
        "eq1 = Eq(30*pf + 10*py + 120*pe, 12500)\n",
        "\n",
        "# Month 2: 40*pf + 20*py + 200*pe = 18000\n",
        "eq2 = Eq(40*pf + 20*py + 200*pe, 18000)\n",
        "\n",
        "# Month 3: 50*pf + 40*py + 360*pe = 25700\n",
        "eq3 = Eq(50*pf + 40*py + 360*pe, 25700)\n",
        "\n",
        "# solving the system of equations\n",
        "solution = solve((eq1, eq2, eq3), (pf, py, pe))\n",
        "\n",
        "# extracting the prices\n",
        "sf = solution[pf]\n",
        "sy = solution[py]\n",
        "se = solution[pe]\n",
        "\n",
        "# printing of results\n",
        "print(f\"Price per sack of flour: {sf:.2f} pesos\")\n",
        "print(f\"Price per pack of yeast: {sy:.2f} pesos\")\n",
        "print(f\"Price per egg: {se:.2f} pesos\")"
      ]
    }
  ]
}